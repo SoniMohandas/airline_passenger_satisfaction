{
 "cells": [
  {
   "cell_type": "code",
   "execution_count": 2,
   "metadata": {},
   "outputs": [],
   "source": [
    "# Import dependencies\n",
    "import pandas as pd\n",
    "import numpy as np\n",
    "import matplotlib.pyplot as plt\n",
    "import warnings\n",
    "warnings.filterwarnings('ignore')"
   ]
  },
  {
   "cell_type": "code",
   "execution_count": 3,
   "metadata": {},
   "outputs": [
    {
     "data": {
      "text/html": [
       "<div>\n",
       "<style scoped>\n",
       "    .dataframe tbody tr th:only-of-type {\n",
       "        vertical-align: middle;\n",
       "    }\n",
       "\n",
       "    .dataframe tbody tr th {\n",
       "        vertical-align: top;\n",
       "    }\n",
       "\n",
       "    .dataframe thead th {\n",
       "        text-align: right;\n",
       "    }\n",
       "</style>\n",
       "<table border=\"1\" class=\"dataframe\">\n",
       "  <thead>\n",
       "    <tr style=\"text-align: right;\">\n",
       "      <th></th>\n",
       "      <th>Unnamed: 0</th>\n",
       "      <th>id</th>\n",
       "      <th>Gender</th>\n",
       "      <th>Customer Type</th>\n",
       "      <th>Age</th>\n",
       "      <th>Type of Travel</th>\n",
       "      <th>Class</th>\n",
       "      <th>Flight Distance</th>\n",
       "      <th>Inflight wifi service</th>\n",
       "      <th>Departure/Arrival time convenient</th>\n",
       "      <th>...</th>\n",
       "      <th>Inflight entertainment</th>\n",
       "      <th>On-board service</th>\n",
       "      <th>Leg room service</th>\n",
       "      <th>Baggage handling</th>\n",
       "      <th>Checkin service</th>\n",
       "      <th>Inflight service</th>\n",
       "      <th>Cleanliness</th>\n",
       "      <th>Departure Delay in Minutes</th>\n",
       "      <th>Arrival Delay in Minutes</th>\n",
       "      <th>satisfaction</th>\n",
       "    </tr>\n",
       "  </thead>\n",
       "  <tbody>\n",
       "    <tr>\n",
       "      <th>0</th>\n",
       "      <td>0</td>\n",
       "      <td>70172</td>\n",
       "      <td>Male</td>\n",
       "      <td>Loyal Customer</td>\n",
       "      <td>13</td>\n",
       "      <td>Personal Travel</td>\n",
       "      <td>Eco Plus</td>\n",
       "      <td>460</td>\n",
       "      <td>3</td>\n",
       "      <td>4</td>\n",
       "      <td>...</td>\n",
       "      <td>5</td>\n",
       "      <td>4</td>\n",
       "      <td>3</td>\n",
       "      <td>4</td>\n",
       "      <td>4</td>\n",
       "      <td>5</td>\n",
       "      <td>5</td>\n",
       "      <td>25</td>\n",
       "      <td>18.0</td>\n",
       "      <td>neutral or dissatisfied</td>\n",
       "    </tr>\n",
       "    <tr>\n",
       "      <th>1</th>\n",
       "      <td>1</td>\n",
       "      <td>5047</td>\n",
       "      <td>Male</td>\n",
       "      <td>disloyal Customer</td>\n",
       "      <td>25</td>\n",
       "      <td>Business travel</td>\n",
       "      <td>Business</td>\n",
       "      <td>235</td>\n",
       "      <td>3</td>\n",
       "      <td>2</td>\n",
       "      <td>...</td>\n",
       "      <td>1</td>\n",
       "      <td>1</td>\n",
       "      <td>5</td>\n",
       "      <td>3</td>\n",
       "      <td>1</td>\n",
       "      <td>4</td>\n",
       "      <td>1</td>\n",
       "      <td>1</td>\n",
       "      <td>6.0</td>\n",
       "      <td>neutral or dissatisfied</td>\n",
       "    </tr>\n",
       "  </tbody>\n",
       "</table>\n",
       "<p>2 rows × 25 columns</p>\n",
       "</div>"
      ],
      "text/plain": [
       "   Unnamed: 0     id Gender      Customer Type  Age   Type of Travel  \\\n",
       "0           0  70172   Male     Loyal Customer   13  Personal Travel   \n",
       "1           1   5047   Male  disloyal Customer   25  Business travel   \n",
       "\n",
       "      Class  Flight Distance  Inflight wifi service  \\\n",
       "0  Eco Plus              460                      3   \n",
       "1  Business              235                      3   \n",
       "\n",
       "   Departure/Arrival time convenient  ...  Inflight entertainment  \\\n",
       "0                                  4  ...                       5   \n",
       "1                                  2  ...                       1   \n",
       "\n",
       "   On-board service  Leg room service  Baggage handling  Checkin service  \\\n",
       "0                 4                 3                 4                4   \n",
       "1                 1                 5                 3                1   \n",
       "\n",
       "   Inflight service  Cleanliness  Departure Delay in Minutes  \\\n",
       "0                 5            5                          25   \n",
       "1                 4            1                           1   \n",
       "\n",
       "   Arrival Delay in Minutes             satisfaction  \n",
       "0                      18.0  neutral or dissatisfied  \n",
       "1                       6.0  neutral or dissatisfied  \n",
       "\n",
       "[2 rows x 25 columns]"
      ]
     },
     "execution_count": 3,
     "metadata": {},
     "output_type": "execute_result"
    }
   ],
   "source": [
    "# Read and load csv file into a dataframe\n",
    "train_df = pd.read_csv(\"Resources/train.csv\")\n",
    "test_df = pd.read_csv(\"Resources/test.csv\")\n",
    "train_df.head(2)"
   ]
  },
  {
   "cell_type": "code",
   "execution_count": 4,
   "metadata": {},
   "outputs": [
    {
     "data": {
      "text/plain": [
       "0         False\n",
       "1         False\n",
       "2         False\n",
       "3         False\n",
       "4         False\n",
       "          ...  \n",
       "103899    False\n",
       "103900    False\n",
       "103901    False\n",
       "103902    False\n",
       "103903    False\n",
       "Length: 103904, dtype: bool"
      ]
     },
     "execution_count": 4,
     "metadata": {},
     "output_type": "execute_result"
    }
   ],
   "source": [
    "train_df.duplicated()"
   ]
  },
  {
   "cell_type": "code",
   "execution_count": 5,
   "metadata": {},
   "outputs": [
    {
     "data": {
      "text/plain": [
       "array(['Male', 'Female'], dtype=object)"
      ]
     },
     "execution_count": 5,
     "metadata": {},
     "output_type": "execute_result"
    }
   ],
   "source": [
    "train_df.Gender.unique()"
   ]
  },
  {
   "cell_type": "code",
   "execution_count": 6,
   "metadata": {},
   "outputs": [
    {
     "name": "stdout",
     "output_type": "stream",
     "text": [
      "<class 'pandas.core.frame.DataFrame'>\n",
      "RangeIndex: 103904 entries, 0 to 103903\n",
      "Data columns (total 25 columns):\n",
      " #   Column                             Non-Null Count   Dtype  \n",
      "---  ------                             --------------   -----  \n",
      " 0   Unnamed: 0                         103904 non-null  int64  \n",
      " 1   id                                 103904 non-null  int64  \n",
      " 2   Gender                             103904 non-null  object \n",
      " 3   Customer Type                      103904 non-null  object \n",
      " 4   Age                                103904 non-null  int64  \n",
      " 5   Type of Travel                     103904 non-null  object \n",
      " 6   Class                              103904 non-null  object \n",
      " 7   Flight Distance                    103904 non-null  int64  \n",
      " 8   Inflight wifi service              103904 non-null  int64  \n",
      " 9   Departure/Arrival time convenient  103904 non-null  int64  \n",
      " 10  Ease of Online booking             103904 non-null  int64  \n",
      " 11  Gate location                      103904 non-null  int64  \n",
      " 12  Food and drink                     103904 non-null  int64  \n",
      " 13  Online boarding                    103904 non-null  int64  \n",
      " 14  Seat comfort                       103904 non-null  int64  \n",
      " 15  Inflight entertainment             103904 non-null  int64  \n",
      " 16  On-board service                   103904 non-null  int64  \n",
      " 17  Leg room service                   103904 non-null  int64  \n",
      " 18  Baggage handling                   103904 non-null  int64  \n",
      " 19  Checkin service                    103904 non-null  int64  \n",
      " 20  Inflight service                   103904 non-null  int64  \n",
      " 21  Cleanliness                        103904 non-null  int64  \n",
      " 22  Departure Delay in Minutes         103904 non-null  int64  \n",
      " 23  Arrival Delay in Minutes           103594 non-null  float64\n",
      " 24  satisfaction                       103904 non-null  object \n",
      "dtypes: float64(1), int64(19), object(5)\n",
      "memory usage: 19.8+ MB\n",
      "None\n"
     ]
    }
   ],
   "source": [
    "print(train_df.info())"
   ]
  },
  {
   "cell_type": "code",
   "execution_count": 7,
   "metadata": {
    "tags": []
   },
   "outputs": [],
   "source": [
    "# Find whether any null value exists in train_df and test_df\n",
    "train_df.isna().sum()\n",
    "test_df.isna().sum()\n",
    "\n",
    "# Drop columns 'Unnamed: 0', and 'id'\n",
    "train_df.drop(['Unnamed: 0'], axis = 1, inplace = True)\n",
    "test_df.drop(columns = ['Unnamed: 0', 'id'], inplace = True)\n",
    "\n",
    "# Drop na containing rows from train and test dataframes\n",
    "train_df.dropna(inplace = True)\n",
    "test_df.dropna(inplace = True)"
   ]
  },
  {
   "cell_type": "code",
   "execution_count": 8,
   "metadata": {},
   "outputs": [],
   "source": [
    "# Remove white spaces in column names\n",
    "train_df.columns = train_df.columns.str.replace(\" \", \"_\")\n",
    "test_df.columns = test_df.columns.str.replace(\" \", \"_\")\n",
    "train_df.to_csv('Resources/airline_passenger_satisfaction.csv', index=False)"
   ]
  },
  {
   "cell_type": "code",
   "execution_count": 9,
   "metadata": {},
   "outputs": [
    {
     "data": {
      "text/html": [
       "<div>\n",
       "<style scoped>\n",
       "    .dataframe tbody tr th:only-of-type {\n",
       "        vertical-align: middle;\n",
       "    }\n",
       "\n",
       "    .dataframe tbody tr th {\n",
       "        vertical-align: top;\n",
       "    }\n",
       "\n",
       "    .dataframe thead th {\n",
       "        text-align: right;\n",
       "    }\n",
       "</style>\n",
       "<table border=\"1\" class=\"dataframe\">\n",
       "  <thead>\n",
       "    <tr style=\"text-align: right;\">\n",
       "      <th></th>\n",
       "      <th>Age</th>\n",
       "      <th>Flight_Distance</th>\n",
       "      <th>Inflight_wifi_service</th>\n",
       "      <th>Departure/Arrival_time_convenient</th>\n",
       "      <th>Ease_of_Online_booking</th>\n",
       "      <th>Gate_location</th>\n",
       "      <th>Food_and_drink</th>\n",
       "      <th>Online_boarding</th>\n",
       "      <th>Seat_comfort</th>\n",
       "      <th>Inflight_entertainment</th>\n",
       "      <th>On-board_service</th>\n",
       "      <th>Leg_room_service</th>\n",
       "      <th>Baggage_handling</th>\n",
       "      <th>Checkin_service</th>\n",
       "      <th>Inflight_service</th>\n",
       "      <th>Cleanliness</th>\n",
       "      <th>Departure_Delay_in_Minutes</th>\n",
       "      <th>Arrival_Delay_in_Minutes</th>\n",
       "    </tr>\n",
       "  </thead>\n",
       "  <tbody>\n",
       "    <tr>\n",
       "      <th>count</th>\n",
       "      <td>103594.000000</td>\n",
       "      <td>103594.000000</td>\n",
       "      <td>103594.000000</td>\n",
       "      <td>103594.000000</td>\n",
       "      <td>103594.000000</td>\n",
       "      <td>103594.000000</td>\n",
       "      <td>103594.000000</td>\n",
       "      <td>103594.000000</td>\n",
       "      <td>103594.000000</td>\n",
       "      <td>103594.000000</td>\n",
       "      <td>103594.000000</td>\n",
       "      <td>103594.000000</td>\n",
       "      <td>103594.000000</td>\n",
       "      <td>103594.000000</td>\n",
       "      <td>103594.000000</td>\n",
       "      <td>103594.000000</td>\n",
       "      <td>103594.000000</td>\n",
       "      <td>103594.000000</td>\n",
       "    </tr>\n",
       "    <tr>\n",
       "      <th>mean</th>\n",
       "      <td>39.380466</td>\n",
       "      <td>1189.325202</td>\n",
       "      <td>2.729753</td>\n",
       "      <td>3.060081</td>\n",
       "      <td>2.756984</td>\n",
       "      <td>2.977026</td>\n",
       "      <td>3.202126</td>\n",
       "      <td>3.250497</td>\n",
       "      <td>3.439765</td>\n",
       "      <td>3.358341</td>\n",
       "      <td>3.382609</td>\n",
       "      <td>3.351401</td>\n",
       "      <td>3.631687</td>\n",
       "      <td>3.304323</td>\n",
       "      <td>3.640761</td>\n",
       "      <td>3.286397</td>\n",
       "      <td>14.747939</td>\n",
       "      <td>15.178678</td>\n",
       "    </tr>\n",
       "    <tr>\n",
       "      <th>std</th>\n",
       "      <td>15.113125</td>\n",
       "      <td>997.297235</td>\n",
       "      <td>1.327866</td>\n",
       "      <td>1.525233</td>\n",
       "      <td>1.398934</td>\n",
       "      <td>1.277723</td>\n",
       "      <td>1.329401</td>\n",
       "      <td>1.349433</td>\n",
       "      <td>1.318896</td>\n",
       "      <td>1.333030</td>\n",
       "      <td>1.288284</td>\n",
       "      <td>1.315409</td>\n",
       "      <td>1.181051</td>\n",
       "      <td>1.265396</td>\n",
       "      <td>1.175603</td>\n",
       "      <td>1.312194</td>\n",
       "      <td>38.116737</td>\n",
       "      <td>38.698682</td>\n",
       "    </tr>\n",
       "    <tr>\n",
       "      <th>min</th>\n",
       "      <td>7.000000</td>\n",
       "      <td>31.000000</td>\n",
       "      <td>0.000000</td>\n",
       "      <td>0.000000</td>\n",
       "      <td>0.000000</td>\n",
       "      <td>0.000000</td>\n",
       "      <td>0.000000</td>\n",
       "      <td>0.000000</td>\n",
       "      <td>0.000000</td>\n",
       "      <td>0.000000</td>\n",
       "      <td>0.000000</td>\n",
       "      <td>0.000000</td>\n",
       "      <td>1.000000</td>\n",
       "      <td>0.000000</td>\n",
       "      <td>0.000000</td>\n",
       "      <td>0.000000</td>\n",
       "      <td>0.000000</td>\n",
       "      <td>0.000000</td>\n",
       "    </tr>\n",
       "    <tr>\n",
       "      <th>25%</th>\n",
       "      <td>27.000000</td>\n",
       "      <td>414.000000</td>\n",
       "      <td>2.000000</td>\n",
       "      <td>2.000000</td>\n",
       "      <td>2.000000</td>\n",
       "      <td>2.000000</td>\n",
       "      <td>2.000000</td>\n",
       "      <td>2.000000</td>\n",
       "      <td>2.000000</td>\n",
       "      <td>2.000000</td>\n",
       "      <td>2.000000</td>\n",
       "      <td>2.000000</td>\n",
       "      <td>3.000000</td>\n",
       "      <td>3.000000</td>\n",
       "      <td>3.000000</td>\n",
       "      <td>2.000000</td>\n",
       "      <td>0.000000</td>\n",
       "      <td>0.000000</td>\n",
       "    </tr>\n",
       "    <tr>\n",
       "      <th>50%</th>\n",
       "      <td>40.000000</td>\n",
       "      <td>842.000000</td>\n",
       "      <td>3.000000</td>\n",
       "      <td>3.000000</td>\n",
       "      <td>3.000000</td>\n",
       "      <td>3.000000</td>\n",
       "      <td>3.000000</td>\n",
       "      <td>3.000000</td>\n",
       "      <td>4.000000</td>\n",
       "      <td>4.000000</td>\n",
       "      <td>4.000000</td>\n",
       "      <td>4.000000</td>\n",
       "      <td>4.000000</td>\n",
       "      <td>3.000000</td>\n",
       "      <td>4.000000</td>\n",
       "      <td>3.000000</td>\n",
       "      <td>0.000000</td>\n",
       "      <td>0.000000</td>\n",
       "    </tr>\n",
       "    <tr>\n",
       "      <th>75%</th>\n",
       "      <td>51.000000</td>\n",
       "      <td>1743.000000</td>\n",
       "      <td>4.000000</td>\n",
       "      <td>4.000000</td>\n",
       "      <td>4.000000</td>\n",
       "      <td>4.000000</td>\n",
       "      <td>4.000000</td>\n",
       "      <td>4.000000</td>\n",
       "      <td>5.000000</td>\n",
       "      <td>4.000000</td>\n",
       "      <td>4.000000</td>\n",
       "      <td>4.000000</td>\n",
       "      <td>5.000000</td>\n",
       "      <td>4.000000</td>\n",
       "      <td>5.000000</td>\n",
       "      <td>4.000000</td>\n",
       "      <td>12.000000</td>\n",
       "      <td>13.000000</td>\n",
       "    </tr>\n",
       "    <tr>\n",
       "      <th>max</th>\n",
       "      <td>85.000000</td>\n",
       "      <td>4983.000000</td>\n",
       "      <td>5.000000</td>\n",
       "      <td>5.000000</td>\n",
       "      <td>5.000000</td>\n",
       "      <td>5.000000</td>\n",
       "      <td>5.000000</td>\n",
       "      <td>5.000000</td>\n",
       "      <td>5.000000</td>\n",
       "      <td>5.000000</td>\n",
       "      <td>5.000000</td>\n",
       "      <td>5.000000</td>\n",
       "      <td>5.000000</td>\n",
       "      <td>5.000000</td>\n",
       "      <td>5.000000</td>\n",
       "      <td>5.000000</td>\n",
       "      <td>1592.000000</td>\n",
       "      <td>1584.000000</td>\n",
       "    </tr>\n",
       "  </tbody>\n",
       "</table>\n",
       "</div>"
      ],
      "text/plain": [
       "                 Age  Flight_Distance  Inflight_wifi_service  \\\n",
       "count  103594.000000    103594.000000          103594.000000   \n",
       "mean       39.380466      1189.325202               2.729753   \n",
       "std        15.113125       997.297235               1.327866   \n",
       "min         7.000000        31.000000               0.000000   \n",
       "25%        27.000000       414.000000               2.000000   \n",
       "50%        40.000000       842.000000               3.000000   \n",
       "75%        51.000000      1743.000000               4.000000   \n",
       "max        85.000000      4983.000000               5.000000   \n",
       "\n",
       "       Departure/Arrival_time_convenient  Ease_of_Online_booking  \\\n",
       "count                      103594.000000           103594.000000   \n",
       "mean                            3.060081                2.756984   \n",
       "std                             1.525233                1.398934   \n",
       "min                             0.000000                0.000000   \n",
       "25%                             2.000000                2.000000   \n",
       "50%                             3.000000                3.000000   \n",
       "75%                             4.000000                4.000000   \n",
       "max                             5.000000                5.000000   \n",
       "\n",
       "       Gate_location  Food_and_drink  Online_boarding   Seat_comfort  \\\n",
       "count  103594.000000   103594.000000    103594.000000  103594.000000   \n",
       "mean        2.977026        3.202126         3.250497       3.439765   \n",
       "std         1.277723        1.329401         1.349433       1.318896   \n",
       "min         0.000000        0.000000         0.000000       0.000000   \n",
       "25%         2.000000        2.000000         2.000000       2.000000   \n",
       "50%         3.000000        3.000000         3.000000       4.000000   \n",
       "75%         4.000000        4.000000         4.000000       5.000000   \n",
       "max         5.000000        5.000000         5.000000       5.000000   \n",
       "\n",
       "       Inflight_entertainment  On-board_service  Leg_room_service  \\\n",
       "count           103594.000000     103594.000000     103594.000000   \n",
       "mean                 3.358341          3.382609          3.351401   \n",
       "std                  1.333030          1.288284          1.315409   \n",
       "min                  0.000000          0.000000          0.000000   \n",
       "25%                  2.000000          2.000000          2.000000   \n",
       "50%                  4.000000          4.000000          4.000000   \n",
       "75%                  4.000000          4.000000          4.000000   \n",
       "max                  5.000000          5.000000          5.000000   \n",
       "\n",
       "       Baggage_handling  Checkin_service  Inflight_service    Cleanliness  \\\n",
       "count     103594.000000    103594.000000     103594.000000  103594.000000   \n",
       "mean           3.631687         3.304323          3.640761       3.286397   \n",
       "std            1.181051         1.265396          1.175603       1.312194   \n",
       "min            1.000000         0.000000          0.000000       0.000000   \n",
       "25%            3.000000         3.000000          3.000000       2.000000   \n",
       "50%            4.000000         3.000000          4.000000       3.000000   \n",
       "75%            5.000000         4.000000          5.000000       4.000000   \n",
       "max            5.000000         5.000000          5.000000       5.000000   \n",
       "\n",
       "       Departure_Delay_in_Minutes  Arrival_Delay_in_Minutes  \n",
       "count               103594.000000             103594.000000  \n",
       "mean                    14.747939                 15.178678  \n",
       "std                     38.116737                 38.698682  \n",
       "min                      0.000000                  0.000000  \n",
       "25%                      0.000000                  0.000000  \n",
       "50%                      0.000000                  0.000000  \n",
       "75%                     12.000000                 13.000000  \n",
       "max                   1592.000000               1584.000000  "
      ]
     },
     "execution_count": 9,
     "metadata": {},
     "output_type": "execute_result"
    }
   ],
   "source": [
    "# Drop Id column\n",
    "train_df.drop(columns = 'id', inplace = True)\n",
    "train_df.describe()"
   ]
  },
  {
   "cell_type": "code",
   "execution_count": 10,
   "metadata": {},
   "outputs": [
    {
     "name": "stdout",
     "output_type": "stream",
     "text": [
      "(103594, 22)\n",
      "(25893, 22)\n"
     ]
    }
   ],
   "source": [
    "# Using label encoder for the preprocessing of data\n",
    "from sklearn.preprocessing import LabelEncoder\n",
    "X_train = train_df.apply(LabelEncoder().fit_transform)\n",
    "X_test = test_df.apply(LabelEncoder().fit_transform)\n",
    "X_train.drop(columns='satisfaction', inplace = True)\n",
    "X_test.drop(columns='satisfaction', inplace = True)\n",
    "\n",
    "print(X_train.shape)\n",
    "print(X_test.shape)"
   ]
  },
  {
   "cell_type": "code",
   "execution_count": 11,
   "metadata": {},
   "outputs": [],
   "source": [
    "# Create y_train, y_test categorical data to numeric values\n",
    "y_train = train_df['satisfaction'].map({'neutral or dissatisfied': 0, 'satisfied': 1})\n",
    "y_test = test_df['satisfaction'].map({'neutral or dissatisfied': 0, 'satisfied': 1})"
   ]
  },
  {
   "cell_type": "markdown",
   "metadata": {},
   "source": [
    "# Linear Regression Model"
   ]
  },
  {
   "cell_type": "code",
   "execution_count": 12,
   "metadata": {},
   "outputs": [
    {
     "name": "stdout",
     "output_type": "stream",
     "text": [
      "Training Score: 0.5508092598724748\n",
      "Testing Score: 0.5363880324034771\n"
     ]
    }
   ],
   "source": [
    "# Create the model by using LinearRegression.\n",
    "from sklearn.linear_model import LinearRegression\n",
    "model = LinearRegression()\n",
    "\n",
    "# Fit the model to the training data, and calculate the scores for the training and testing data.\n",
    "\n",
    "model.fit(X_train, y_train)\n",
    "training_score = model.score(X_train, y_train)\n",
    "testing_score = model.score(X_test, y_test)\n",
    "\n",
    "print(f\"Training Score: {training_score}\")\n",
    "print(f\"Testing Score: {testing_score}\")\n"
   ]
  },
  {
   "cell_type": "markdown",
   "metadata": {},
   "source": [
    "# Logistic Regression Model"
   ]
  },
  {
   "cell_type": "code",
   "execution_count": 13,
   "metadata": {},
   "outputs": [],
   "source": [
    "# Import dependency\n",
    "from sklearn.linear_model import LogisticRegression\n",
    "\n",
    "# Fit the model \n",
    "lr = LogisticRegression(C=10, random_state = 322).fit(X_train, y_train)"
   ]
  },
  {
   "cell_type": "code",
   "execution_count": 14,
   "metadata": {},
   "outputs": [
    {
     "name": "stdout",
     "output_type": "stream",
     "text": [
      "Training Data Score: 0.8355310153097669\n",
      "Testing Data Score: 0.832464372610358\n"
     ]
    }
   ],
   "source": [
    "# Print Training and Test score\n",
    "print(f\"Training Data Score: {lr.score(X_train, y_train)}\")\n",
    "print(f\"Testing Data Score: {lr.score(X_test, y_test)}\")"
   ]
  },
  {
   "cell_type": "markdown",
   "metadata": {},
   "source": [
    "# Random Forest Classification Model"
   ]
  },
  {
   "cell_type": "code",
   "execution_count": 15,
   "metadata": {},
   "outputs": [
    {
     "name": "stdout",
     "output_type": "stream",
     "text": [
      "Training score : 0.9012780662972759\n",
      "Testing score : 0.8931371413123238\n"
     ]
    }
   ],
   "source": [
    "# Import random forest model\n",
    "from sklearn.ensemble import RandomForestClassifier\n",
    "\n",
    "# Create a Gaussian Classifier\n",
    "rfc = RandomForestClassifier(max_depth = 3, random_state = 322)\n",
    "\n",
    "# Train the model\n",
    "rfc.fit(X_train, y_train)\n",
    "\n",
    "# Print the score\n",
    "print(f\"Training score : {rfc.score(X_train, y_train)}\")\n",
    "print(f\"Testing score : {rfc.score(X_test, y_test)}\")"
   ]
  },
  {
   "cell_type": "markdown",
   "metadata": {},
   "source": [
    "# Applying standard scaler"
   ]
  },
  {
   "cell_type": "code",
   "execution_count": 16,
   "metadata": {},
   "outputs": [],
   "source": [
    "# Scaling the data set\n",
    "from sklearn.preprocessing import StandardScaler\n",
    "# from sklearn.pipeline import make_pipeline\n",
    "\n",
    "# fit the scale\n",
    "ss = StandardScaler()"
   ]
  },
  {
   "cell_type": "markdown",
   "metadata": {},
   "source": [
    "# Scaled model of Logistic Regression"
   ]
  },
  {
   "cell_type": "code",
   "execution_count": 17,
   "metadata": {},
   "outputs": [
    {
     "name": "stdout",
     "output_type": "stream",
     "text": [
      "Training Data Score: 0.8755140259088364\n",
      "Testing Data Score: 0.871084849187039\n"
     ]
    },
    {
     "data": {
      "text/plain": [
       "array([1, 1, 0, ..., 0, 1, 0], dtype=int64)"
      ]
     },
     "execution_count": 17,
     "metadata": {},
     "output_type": "execute_result"
    }
   ],
   "source": [
    "# Train the Logistic Regression model on the scaled data and print the model score\n",
    "X_train_scaled = ss.fit_transform(X_train)\n",
    "X_test_scaled = ss.fit_transform(X_test)\n",
    "lr.fit(X_train_scaled, y_train)\n",
    "print(f\"Training Data Score: {lr.score(X_train_scaled, y_train)}\")\n",
    "print(f\"Testing Data Score: {lr.score(X_test_scaled, y_test)}\")\n",
    "lr.predict(X_test_scaled)"
   ]
  },
  {
   "cell_type": "markdown",
   "metadata": {},
   "source": [
    "## AdaBoost Classification"
   ]
  },
  {
   "cell_type": "code",
   "execution_count": 18,
   "metadata": {},
   "outputs": [
    {
     "name": "stdout",
     "output_type": "stream",
     "text": [
      "Training score: 0.9451126513118521\n",
      "Testing score: 0.9371644846097401\n"
     ]
    }
   ],
   "source": [
    "from sklearn.ensemble import AdaBoostClassifier\n",
    "from sklearn.tree import DecisionTreeClassifier\n",
    "\n",
    "abc = AdaBoostClassifier(random_state = 1, n_estimators=130,\n",
    "                        learning_rate=0.1,\n",
    "                        base_estimator = DecisionTreeClassifier(\n",
    "                        criterion = 'gini', max_depth = 3, \n",
    "                        max_features = 'auto', min_samples_leaf=6))\n",
    "abc.fit(X_train, y_train)\n",
    "print(f'Training score: {abc.score(X_train, y_train)}')\n",
    "print(f'Testing score: {abc.score(X_test, y_test)}')"
   ]
  },
  {
   "cell_type": "markdown",
   "metadata": {},
   "source": [
    "## XGBoost Classification"
   ]
  },
  {
   "cell_type": "code",
   "execution_count": 19,
   "metadata": {},
   "outputs": [
    {
     "name": "stdout",
     "output_type": "stream",
     "text": [
      "[22:04:21] WARNING: ..\\src\\learner.cc:1115: Starting in XGBoost 1.3.0, the default evaluation metric used with the objective 'binary:logistic' was changed from 'error' to 'logloss'. Explicitly set eval_metric if you'd like to restore the old behavior.\n",
      "Training score: 0.9699403440353689\n",
      "Testing score: 0.9537326690611362\n"
     ]
    }
   ],
   "source": [
    "from xgboost import XGBClassifier\n",
    "xgb = XGBClassifier(booster = 'gbtree', learning_rate=0.2,\n",
    "                   n_estimators=100, gamma=0.1, seed = 1000,\n",
    "                   num_parallel_tree=3).fit(X_train, y_train)\n",
    "print(f'Training score: {xgb.score(X_train, y_train)}')\n",
    "print(f'Testing score: {xgb.score(X_test,y_test)}')"
   ]
  },
  {
   "cell_type": "markdown",
   "metadata": {},
   "source": [
    "* Satisfaction prediction rate has improved significantly with XGBoost Classification and AdaBoost Classification"
   ]
  },
  {
   "cell_type": "markdown",
   "metadata": {},
   "source": [
    "# CatBoostClassifier"
   ]
  },
  {
   "cell_type": "code",
   "execution_count": 24,
   "metadata": {},
   "outputs": [
    {
     "name": "stdout",
     "output_type": "stream",
     "text": [
      "0:\tlearn: 0.5640491\ttotal: 24.4ms\tremaining: 2.41s\n",
      "1:\tlearn: 0.4374758\ttotal: 45.7ms\tremaining: 2.24s\n",
      "2:\tlearn: 0.3800755\ttotal: 66.5ms\tremaining: 2.15s\n",
      "3:\tlearn: 0.3319872\ttotal: 85.8ms\tremaining: 2.06s\n",
      "4:\tlearn: 0.3008236\ttotal: 106ms\tremaining: 2.01s\n",
      "5:\tlearn: 0.2728161\ttotal: 125ms\tremaining: 1.96s\n",
      "6:\tlearn: 0.2349504\ttotal: 145ms\tremaining: 1.93s\n",
      "7:\tlearn: 0.2208937\ttotal: 167ms\tremaining: 1.93s\n",
      "8:\tlearn: 0.2103966\ttotal: 188ms\tremaining: 1.9s\n",
      "9:\tlearn: 0.2026796\ttotal: 209ms\tremaining: 1.88s\n",
      "10:\tlearn: 0.1954402\ttotal: 235ms\tremaining: 1.9s\n",
      "11:\tlearn: 0.1895919\ttotal: 257ms\tremaining: 1.89s\n",
      "12:\tlearn: 0.1836159\ttotal: 278ms\tremaining: 1.86s\n",
      "13:\tlearn: 0.1752666\ttotal: 297ms\tremaining: 1.82s\n",
      "14:\tlearn: 0.1708722\ttotal: 315ms\tremaining: 1.78s\n",
      "15:\tlearn: 0.1653566\ttotal: 335ms\tremaining: 1.76s\n",
      "16:\tlearn: 0.1625551\ttotal: 354ms\tremaining: 1.73s\n",
      "17:\tlearn: 0.1602443\ttotal: 373ms\tremaining: 1.7s\n",
      "18:\tlearn: 0.1550773\ttotal: 393ms\tremaining: 1.68s\n",
      "19:\tlearn: 0.1530543\ttotal: 415ms\tremaining: 1.66s\n",
      "20:\tlearn: 0.1500864\ttotal: 437ms\tremaining: 1.64s\n",
      "21:\tlearn: 0.1476974\ttotal: 456ms\tremaining: 1.62s\n",
      "22:\tlearn: 0.1453216\ttotal: 475ms\tremaining: 1.59s\n",
      "23:\tlearn: 0.1435716\ttotal: 495ms\tremaining: 1.57s\n",
      "24:\tlearn: 0.1423478\ttotal: 514ms\tremaining: 1.54s\n",
      "25:\tlearn: 0.1409259\ttotal: 533ms\tremaining: 1.51s\n",
      "26:\tlearn: 0.1386373\ttotal: 551ms\tremaining: 1.49s\n",
      "27:\tlearn: 0.1373461\ttotal: 571ms\tremaining: 1.47s\n",
      "28:\tlearn: 0.1344261\ttotal: 594ms\tremaining: 1.45s\n",
      "29:\tlearn: 0.1332610\ttotal: 616ms\tremaining: 1.44s\n",
      "30:\tlearn: 0.1314751\ttotal: 637ms\tremaining: 1.42s\n",
      "31:\tlearn: 0.1301822\ttotal: 655ms\tremaining: 1.39s\n",
      "32:\tlearn: 0.1291570\ttotal: 674ms\tremaining: 1.37s\n",
      "33:\tlearn: 0.1284183\ttotal: 695ms\tremaining: 1.35s\n",
      "34:\tlearn: 0.1256782\ttotal: 715ms\tremaining: 1.33s\n",
      "35:\tlearn: 0.1236295\ttotal: 735ms\tremaining: 1.31s\n",
      "36:\tlearn: 0.1229306\ttotal: 754ms\tremaining: 1.28s\n",
      "37:\tlearn: 0.1222198\ttotal: 774ms\tremaining: 1.26s\n",
      "38:\tlearn: 0.1208624\ttotal: 797ms\tremaining: 1.25s\n",
      "39:\tlearn: 0.1202581\ttotal: 819ms\tremaining: 1.23s\n",
      "40:\tlearn: 0.1196893\ttotal: 839ms\tremaining: 1.21s\n",
      "41:\tlearn: 0.1188146\ttotal: 858ms\tremaining: 1.18s\n",
      "42:\tlearn: 0.1179933\ttotal: 880ms\tremaining: 1.17s\n",
      "43:\tlearn: 0.1169917\ttotal: 898ms\tremaining: 1.14s\n",
      "44:\tlearn: 0.1165283\ttotal: 917ms\tremaining: 1.12s\n",
      "45:\tlearn: 0.1161991\ttotal: 937ms\tremaining: 1.1s\n",
      "46:\tlearn: 0.1153228\ttotal: 956ms\tremaining: 1.08s\n",
      "47:\tlearn: 0.1151054\ttotal: 975ms\tremaining: 1.06s\n",
      "48:\tlearn: 0.1137947\ttotal: 998ms\tremaining: 1.04s\n",
      "49:\tlearn: 0.1133142\ttotal: 1.02s\tremaining: 1.02s\n",
      "50:\tlearn: 0.1128731\ttotal: 1.04s\tremaining: 1s\n",
      "51:\tlearn: 0.1123717\ttotal: 1.06s\tremaining: 983ms\n",
      "52:\tlearn: 0.1110021\ttotal: 1.09s\tremaining: 963ms\n",
      "53:\tlearn: 0.1103696\ttotal: 1.11s\tremaining: 942ms\n",
      "54:\tlearn: 0.1090413\ttotal: 1.13s\tremaining: 922ms\n",
      "55:\tlearn: 0.1084867\ttotal: 1.15s\tremaining: 900ms\n",
      "56:\tlearn: 0.1081294\ttotal: 1.17s\tremaining: 879ms\n",
      "57:\tlearn: 0.1077883\ttotal: 1.19s\tremaining: 860ms\n",
      "58:\tlearn: 0.1067433\ttotal: 1.21s\tremaining: 841ms\n",
      "59:\tlearn: 0.1062975\ttotal: 1.23s\tremaining: 821ms\n",
      "60:\tlearn: 0.1060790\ttotal: 1.25s\tremaining: 800ms\n",
      "61:\tlearn: 0.1055134\ttotal: 1.27s\tremaining: 779ms\n",
      "62:\tlearn: 0.1050789\ttotal: 1.29s\tremaining: 758ms\n",
      "63:\tlearn: 0.1046632\ttotal: 1.31s\tremaining: 736ms\n",
      "64:\tlearn: 0.1044295\ttotal: 1.33s\tremaining: 715ms\n",
      "65:\tlearn: 0.1039260\ttotal: 1.35s\tremaining: 693ms\n",
      "66:\tlearn: 0.1035268\ttotal: 1.37s\tremaining: 675ms\n",
      "67:\tlearn: 0.1031879\ttotal: 1.39s\tremaining: 655ms\n",
      "68:\tlearn: 0.1028353\ttotal: 1.41s\tremaining: 635ms\n",
      "69:\tlearn: 0.1025668\ttotal: 1.43s\tremaining: 615ms\n",
      "70:\tlearn: 0.1023013\ttotal: 1.45s\tremaining: 594ms\n",
      "71:\tlearn: 0.1020400\ttotal: 1.47s\tremaining: 573ms\n",
      "72:\tlearn: 0.1014431\ttotal: 1.49s\tremaining: 552ms\n",
      "73:\tlearn: 0.1013414\ttotal: 1.51s\tremaining: 532ms\n",
      "74:\tlearn: 0.1010872\ttotal: 1.53s\tremaining: 512ms\n",
      "75:\tlearn: 0.1009082\ttotal: 1.56s\tremaining: 491ms\n",
      "76:\tlearn: 0.1007204\ttotal: 1.58s\tremaining: 473ms\n",
      "77:\tlearn: 0.1005724\ttotal: 1.6s\tremaining: 453ms\n",
      "78:\tlearn: 0.1001894\ttotal: 1.63s\tremaining: 432ms\n",
      "79:\tlearn: 0.1000713\ttotal: 1.65s\tremaining: 412ms\n",
      "80:\tlearn: 0.0999027\ttotal: 1.67s\tremaining: 391ms\n",
      "81:\tlearn: 0.0996640\ttotal: 1.69s\tremaining: 370ms\n",
      "82:\tlearn: 0.0993133\ttotal: 1.71s\tremaining: 350ms\n",
      "83:\tlearn: 0.0992964\ttotal: 1.72s\tremaining: 328ms\n",
      "84:\tlearn: 0.0991198\ttotal: 1.75s\tremaining: 309ms\n",
      "85:\tlearn: 0.0989695\ttotal: 1.77s\tremaining: 288ms\n",
      "86:\tlearn: 0.0988094\ttotal: 1.79s\tremaining: 268ms\n",
      "87:\tlearn: 0.0986608\ttotal: 1.81s\tremaining: 247ms\n",
      "88:\tlearn: 0.0982401\ttotal: 1.83s\tremaining: 226ms\n",
      "89:\tlearn: 0.0980316\ttotal: 1.85s\tremaining: 206ms\n",
      "90:\tlearn: 0.0978560\ttotal: 1.87s\tremaining: 185ms\n",
      "91:\tlearn: 0.0975478\ttotal: 1.89s\tremaining: 165ms\n",
      "92:\tlearn: 0.0973242\ttotal: 1.91s\tremaining: 144ms\n",
      "93:\tlearn: 0.0972227\ttotal: 1.93s\tremaining: 123ms\n",
      "94:\tlearn: 0.0967101\ttotal: 1.96s\tremaining: 103ms\n",
      "95:\tlearn: 0.0965712\ttotal: 1.98s\tremaining: 82.5ms\n",
      "96:\tlearn: 0.0963770\ttotal: 2s\tremaining: 61.9ms\n",
      "97:\tlearn: 0.0961295\ttotal: 2.02s\tremaining: 41.3ms\n",
      "98:\tlearn: 0.0959780\ttotal: 2.04s\tremaining: 20.6ms\n",
      "99:\tlearn: 0.0957939\ttotal: 2.06s\tremaining: 0us\n",
      "Training score: 0.9621599706546711\n",
      "Testing score: 0.9460858146989534\n"
     ]
    }
   ],
   "source": [
    "from catboost import CatBoostClassifier\n",
    "cbc = CatBoostClassifier(iterations = 100, learning_rate=0.1)\n",
    "cbc.fit(X_train, y_train)\n",
    "\n",
    "# Model accuracy\n",
    "print(f'Training score: {cbc.score(X_train, y_train)}')\n",
    "print(f'Testing score: {cbc.score(X_test,y_test)}')"
   ]
  },
  {
   "cell_type": "code",
   "execution_count": null,
   "metadata": {},
   "outputs": [],
   "source": []
  }
 ],
 "metadata": {
  "kernelspec": {
   "display_name": "Python 3",
   "language": "python",
   "name": "python3"
  },
  "language_info": {
   "codemirror_mode": {
    "name": "ipython",
    "version": 3
   },
   "file_extension": ".py",
   "mimetype": "text/x-python",
   "name": "python",
   "nbconvert_exporter": "python",
   "pygments_lexer": "ipython3",
   "version": "3.8.5"
  }
 },
 "nbformat": 4,
 "nbformat_minor": 4
}
